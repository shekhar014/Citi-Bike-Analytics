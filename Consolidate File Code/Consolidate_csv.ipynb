{
 "cells": [
  {
   "cell_type": "code",
   "execution_count": 2,
   "metadata": {},
   "outputs": [],
   "source": [
    "import pandas as pd\n",
    "import glob\n",
    "import shutil"
   ]
  },
  {
   "cell_type": "code",
   "execution_count": 3,
   "metadata": {},
   "outputs": [
    {
     "name": "stdout",
     "output_type": "stream",
     "text": [
      "/Users/shekhar/Desktop/Bootcamp/Revision/Homework/Tableau/Resources/201709-citibike-tripdata.csv has been imported.\n",
      "/Users/shekhar/Desktop/Bootcamp/Revision/Homework/Tableau/Resources/201809-citibike-tripdata.csv has been imported.\n",
      "/Users/shekhar/Desktop/Bootcamp/Revision/Homework/Tableau/Resources/201701-citibike-tripdata.csv has been imported.\n",
      "/Users/shekhar/Desktop/Bootcamp/Revision/Homework/Tableau/Resources/201801-citibike-tripdata.csv has been imported.\n",
      "/Users/shekhar/Desktop/Bootcamp/Revision/Homework/Tableau/Resources/201803-citibike-tripdata.csv has been imported.\n",
      "/Users/shekhar/Desktop/Bootcamp/Revision/Homework/Tableau/Resources/201703-citibike-tripdata.csv has been imported.\n",
      "/Users/shekhar/Desktop/Bootcamp/Revision/Homework/Tableau/Resources/201705-citibike-tripdata.csv has been imported.\n",
      "/Users/shekhar/Desktop/Bootcamp/Revision/Homework/Tableau/Resources/201805-citibike-tripdata.csv has been imported.\n",
      "/Users/shekhar/Desktop/Bootcamp/Revision/Homework/Tableau/Resources/201807-citibike-tripdata.csv has been imported.\n",
      "/Users/shekhar/Desktop/Bootcamp/Revision/Homework/Tableau/Resources/201811-citibike-tripdata.csv has been imported.\n",
      "/Users/shekhar/Desktop/Bootcamp/Revision/Homework/Tableau/Resources/201711-citibike-tripdata.csv has been imported.\n",
      "/Users/shekhar/Desktop/Bootcamp/Revision/Homework/Tableau/Resources/201707-citibike-tripdata.csv has been imported.\n",
      "/Users/shekhar/Desktop/Bootcamp/Revision/Homework/Tableau/Resources/201708-citibike-tripdata.csv has been imported.\n",
      "/Users/shekhar/Desktop/Bootcamp/Revision/Homework/Tableau/Resources/201808-citibike-tripdata.csv has been imported.\n",
      "/Users/shekhar/Desktop/Bootcamp/Revision/Homework/Tableau/Resources/201802-citibike-tripdata.csv has been imported.\n",
      "/Users/shekhar/Desktop/Bootcamp/Revision/Homework/Tableau/Resources/201702-citibike-tripdata.csv has been imported.\n",
      "/Users/shekhar/Desktop/Bootcamp/Revision/Homework/Tableau/Resources/201704-citibike-tripdata.csv has been imported.\n",
      "/Users/shekhar/Desktop/Bootcamp/Revision/Homework/Tableau/Resources/201712-citibike-tripdata.csv has been imported.\n",
      "/Users/shekhar/Desktop/Bootcamp/Revision/Homework/Tableau/Resources/201812-citibike-tripdata.csv has been imported.\n",
      "/Users/shekhar/Desktop/Bootcamp/Revision/Homework/Tableau/Resources/201804-citibike-tripdata.csv has been imported.\n",
      "/Users/shekhar/Desktop/Bootcamp/Revision/Homework/Tableau/Resources/201810-citibike-tripdata.csv has been imported.\n",
      "/Users/shekhar/Desktop/Bootcamp/Revision/Homework/Tableau/Resources/201806-citibike-tripdata.csv has been imported.\n",
      "/Users/shekhar/Desktop/Bootcamp/Revision/Homework/Tableau/Resources/201706-citibike-tripdata.csv has been imported.\n",
      "/Users/shekhar/Desktop/Bootcamp/Revision/Homework/Tableau/Resources/201710-citibike-tripdata.csv has been imported.\n"
     ]
    }
   ],
   "source": [
    "import shutil\n",
    "#import csv files from folder\n",
    "path = r'/Users/shekhar/Desktop/Bootcamp/Revision/Homework/Tableau/Resources'\n",
    "allFiles = glob.glob(path + \"/*.csv\")\n",
    "with open('/Users/shekhar/Desktop/Bootcamp/Revision/Homework/Tableau/Output/output_test.csv', 'wb') as outfile:\n",
    "    for i, fname in enumerate(allFiles):\n",
    "        with open(fname, 'rb') as infile:\n",
    "            if i != 0:\n",
    "                infile.readline()  # Throw away header on all but first file\n",
    "            # Block copy rest of file from input to output without parsing\n",
    "            shutil.copyfileobj(infile, outfile)\n",
    "            print(fname + \" has been imported.\")\n",
    "\n"
   ]
  },
  {
   "cell_type": "code",
   "execution_count": 4,
   "metadata": {},
   "outputs": [
    {
     "data": {
      "text/html": [
       "<div>\n",
       "<style scoped>\n",
       "    .dataframe tbody tr th:only-of-type {\n",
       "        vertical-align: middle;\n",
       "    }\n",
       "\n",
       "    .dataframe tbody tr th {\n",
       "        vertical-align: top;\n",
       "    }\n",
       "\n",
       "    .dataframe thead th {\n",
       "        text-align: right;\n",
       "    }\n",
       "</style>\n",
       "<table border=\"1\" class=\"dataframe\">\n",
       "  <thead>\n",
       "    <tr style=\"text-align: right;\">\n",
       "      <th></th>\n",
       "      <th>tripduration</th>\n",
       "      <th>starttime</th>\n",
       "      <th>stoptime</th>\n",
       "      <th>start station id</th>\n",
       "      <th>start station name</th>\n",
       "      <th>start station latitude</th>\n",
       "      <th>start station longitude</th>\n",
       "      <th>end station id</th>\n",
       "      <th>end station name</th>\n",
       "      <th>end station latitude</th>\n",
       "      <th>end station longitude</th>\n",
       "      <th>bikeid</th>\n",
       "      <th>usertype</th>\n",
       "      <th>birth year</th>\n",
       "      <th>gender</th>\n",
       "    </tr>\n",
       "  </thead>\n",
       "  <tbody>\n",
       "    <tr>\n",
       "      <th>0</th>\n",
       "      <td>362</td>\n",
       "      <td>2017-09-01 00:00:17</td>\n",
       "      <td>2017-09-01 00:06:19</td>\n",
       "      <td>3331.0</td>\n",
       "      <td>Riverside Dr &amp; W 104 St</td>\n",
       "      <td>40.801343</td>\n",
       "      <td>-73.971146</td>\n",
       "      <td>3328.0</td>\n",
       "      <td>W 100 St &amp; Manhattan Ave</td>\n",
       "      <td>40.795000</td>\n",
       "      <td>-73.964500</td>\n",
       "      <td>14530</td>\n",
       "      <td>Subscriber</td>\n",
       "      <td>1993.0</td>\n",
       "      <td>1</td>\n",
       "    </tr>\n",
       "    <tr>\n",
       "      <th>1</th>\n",
       "      <td>188</td>\n",
       "      <td>2017-09-01 00:00:21</td>\n",
       "      <td>2017-09-01 00:03:30</td>\n",
       "      <td>3101.0</td>\n",
       "      <td>N 12 St &amp; Bedford Ave</td>\n",
       "      <td>40.720798</td>\n",
       "      <td>-73.954847</td>\n",
       "      <td>3100.0</td>\n",
       "      <td>Nassau Ave &amp; Newell St</td>\n",
       "      <td>40.724813</td>\n",
       "      <td>-73.947526</td>\n",
       "      <td>15475</td>\n",
       "      <td>Subscriber</td>\n",
       "      <td>1988.0</td>\n",
       "      <td>1</td>\n",
       "    </tr>\n",
       "    <tr>\n",
       "      <th>2</th>\n",
       "      <td>305</td>\n",
       "      <td>2017-09-01 00:00:25</td>\n",
       "      <td>2017-09-01 00:05:30</td>\n",
       "      <td>3140.0</td>\n",
       "      <td>1 Ave &amp; E 78 St</td>\n",
       "      <td>40.771404</td>\n",
       "      <td>-73.953517</td>\n",
       "      <td>3141.0</td>\n",
       "      <td>1 Ave &amp; E 68 St</td>\n",
       "      <td>40.765005</td>\n",
       "      <td>-73.958185</td>\n",
       "      <td>30346</td>\n",
       "      <td>Subscriber</td>\n",
       "      <td>1969.0</td>\n",
       "      <td>1</td>\n",
       "    </tr>\n",
       "    <tr>\n",
       "      <th>3</th>\n",
       "      <td>223</td>\n",
       "      <td>2017-09-01 00:00:52</td>\n",
       "      <td>2017-09-01 00:04:36</td>\n",
       "      <td>236.0</td>\n",
       "      <td>St Marks Pl &amp; 2 Ave</td>\n",
       "      <td>40.728419</td>\n",
       "      <td>-73.987140</td>\n",
       "      <td>473.0</td>\n",
       "      <td>Rivington St &amp; Chrystie St</td>\n",
       "      <td>40.721101</td>\n",
       "      <td>-73.991925</td>\n",
       "      <td>28056</td>\n",
       "      <td>Subscriber</td>\n",
       "      <td>1993.0</td>\n",
       "      <td>1</td>\n",
       "    </tr>\n",
       "    <tr>\n",
       "      <th>4</th>\n",
       "      <td>758</td>\n",
       "      <td>2017-09-01 00:01:01</td>\n",
       "      <td>2017-09-01 00:13:40</td>\n",
       "      <td>3427.0</td>\n",
       "      <td>Lafayette St &amp; Jersey St</td>\n",
       "      <td>40.724305</td>\n",
       "      <td>-73.996010</td>\n",
       "      <td>3431.0</td>\n",
       "      <td>E 35 St &amp; 3 Ave</td>\n",
       "      <td>40.746524</td>\n",
       "      <td>-73.977885</td>\n",
       "      <td>25413</td>\n",
       "      <td>Subscriber</td>\n",
       "      <td>1987.0</td>\n",
       "      <td>1</td>\n",
       "    </tr>\n",
       "  </tbody>\n",
       "</table>\n",
       "</div>"
      ],
      "text/plain": [
       "   tripduration            starttime             stoptime  start station id  \\\n",
       "0           362  2017-09-01 00:00:17  2017-09-01 00:06:19            3331.0   \n",
       "1           188  2017-09-01 00:00:21  2017-09-01 00:03:30            3101.0   \n",
       "2           305  2017-09-01 00:00:25  2017-09-01 00:05:30            3140.0   \n",
       "3           223  2017-09-01 00:00:52  2017-09-01 00:04:36             236.0   \n",
       "4           758  2017-09-01 00:01:01  2017-09-01 00:13:40            3427.0   \n",
       "\n",
       "         start station name  start station latitude  start station longitude  \\\n",
       "0   Riverside Dr & W 104 St               40.801343               -73.971146   \n",
       "1     N 12 St & Bedford Ave               40.720798               -73.954847   \n",
       "2           1 Ave & E 78 St               40.771404               -73.953517   \n",
       "3       St Marks Pl & 2 Ave               40.728419               -73.987140   \n",
       "4  Lafayette St & Jersey St               40.724305               -73.996010   \n",
       "\n",
       "   end station id            end station name  end station latitude  \\\n",
       "0          3328.0    W 100 St & Manhattan Ave             40.795000   \n",
       "1          3100.0      Nassau Ave & Newell St             40.724813   \n",
       "2          3141.0             1 Ave & E 68 St             40.765005   \n",
       "3           473.0  Rivington St & Chrystie St             40.721101   \n",
       "4          3431.0             E 35 St & 3 Ave             40.746524   \n",
       "\n",
       "   end station longitude  bikeid    usertype  birth year  gender  \n",
       "0             -73.964500   14530  Subscriber      1993.0       1  \n",
       "1             -73.947526   15475  Subscriber      1988.0       1  \n",
       "2             -73.958185   30346  Subscriber      1969.0       1  \n",
       "3             -73.991925   28056  Subscriber      1993.0       1  \n",
       "4             -73.977885   25413  Subscriber      1987.0       1  "
      ]
     },
     "execution_count": 4,
     "metadata": {},
     "output_type": "execute_result"
    }
   ],
   "source": [
    "df = pd.read_csv('/Users/shekhar/Desktop/Bootcamp/Revision/Homework/Tableau/Output/output_test.csv')\n",
    "df.head()"
   ]
  },
  {
   "cell_type": "code",
   "execution_count": 5,
   "metadata": {},
   "outputs": [
    {
     "data": {
      "text/plain": [
       "tripduration               33912996\n",
       "starttime                  33912996\n",
       "stoptime                   33912996\n",
       "start station id           33910499\n",
       "start station name         33910499\n",
       "start station latitude     33912996\n",
       "start station longitude    33912996\n",
       "end station id             33910499\n",
       "end station name           33910499\n",
       "end station latitude       33912996\n",
       "end station longitude      33912996\n",
       "bikeid                     33912996\n",
       "usertype                   33897087\n",
       "birth year                 32282661\n",
       "gender                     33912996\n",
       "dtype: int64"
      ]
     },
     "execution_count": 5,
     "metadata": {},
     "output_type": "execute_result"
    }
   ],
   "source": [
    "df.count()"
   ]
  },
  {
   "cell_type": "code",
   "execution_count": 6,
   "metadata": {},
   "outputs": [],
   "source": [
    "df_no_missing = df.dropna()"
   ]
  },
  {
   "cell_type": "code",
   "execution_count": 7,
   "metadata": {},
   "outputs": [
    {
     "data": {
      "text/plain": [
       "tripduration               32264280\n",
       "starttime                  32264280\n",
       "stoptime                   32264280\n",
       "start station id           32264280\n",
       "start station name         32264280\n",
       "start station latitude     32264280\n",
       "start station longitude    32264280\n",
       "end station id             32264280\n",
       "end station name           32264280\n",
       "end station latitude       32264280\n",
       "end station longitude      32264280\n",
       "bikeid                     32264280\n",
       "usertype                   32264280\n",
       "birth year                 32264280\n",
       "gender                     32264280\n",
       "dtype: int64"
      ]
     },
     "execution_count": 7,
     "metadata": {},
     "output_type": "execute_result"
    }
   ],
   "source": [
    "df_no_missing.count()"
   ]
  },
  {
   "cell_type": "code",
   "execution_count": 10,
   "metadata": {},
   "outputs": [],
   "source": [
    "df_no_missing.to_csv('/Users/shekhar/Desktop/Bootcamp/Revision/Homework/Tableau/Output_Daily_Ridership/output_daily_no_missing_test.csv',index=False,header=True)"
   ]
  },
  {
   "cell_type": "code",
   "execution_count": 11,
   "metadata": {},
   "outputs": [
    {
     "name": "stdout",
     "output_type": "stream",
     "text": [
      "Hello\n"
     ]
    }
   ],
   "source": [
    "print(\"Hello\")"
   ]
  },
  {
   "cell_type": "code",
   "execution_count": null,
   "metadata": {},
   "outputs": [],
   "source": []
  }
 ],
 "metadata": {
  "kernelspec": {
   "display_name": "Python 3",
   "language": "python",
   "name": "python3"
  },
  "language_info": {
   "codemirror_mode": {
    "name": "ipython",
    "version": 3
   },
   "file_extension": ".py",
   "mimetype": "text/x-python",
   "name": "python",
   "nbconvert_exporter": "python",
   "pygments_lexer": "ipython3",
   "version": "3.6.7"
  }
 },
 "nbformat": 4,
 "nbformat_minor": 2
}
